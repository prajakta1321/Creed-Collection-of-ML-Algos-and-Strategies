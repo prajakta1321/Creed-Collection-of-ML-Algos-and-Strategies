{
  "nbformat": 4,
  "nbformat_minor": 0,
  "metadata": {
    "colab": {
      "provenance": []
    },
    "kernelspec": {
      "name": "python3",
      "display_name": "Python 3"
    },
    "language_info": {
      "name": "python"
    }
  },
  "cells": [
    {
      "cell_type": "code",
      "execution_count": 7,
      "metadata": {
        "id": "6Hm8GhgXyqyv"
      },
      "outputs": [],
      "source": [
        "import numpy as np"
      ]
    },
    {
      "cell_type": "code",
      "source": [
        "data = np.array([91,111, 112, 113, 114, 115, 116, 117, 118, 119, 110,121,122,123,154,125,126,127,128,129,130])"
      ],
      "metadata": {
        "id": "q_5YF2PDy0oK"
      },
      "execution_count": 8,
      "outputs": []
    },
    {
      "cell_type": "code",
      "source": [
        "def remove_outliers_iqr(data, threshold=1.8):\n",
        "    q1 = np.percentile(data, 25)\n",
        "    q3 = np.percentile(data, 75)\n",
        "    iqr = q3 - q1\n",
        "    lower_bound = q1 - threshold * iqr\n",
        "    upper_bound = q3 + threshold * iqr\n",
        "    outliers_removed = data[(data >= lower_bound) & (data <= upper_bound)]\n",
        "    return outliers_removed"
      ],
      "metadata": {
        "id": "4YQbJjj5zCbs"
      },
      "execution_count": 9,
      "outputs": []
    },
    {
      "cell_type": "code",
      "source": [
        "cleaned_data = remove_outliers_iqr(data)"
      ],
      "metadata": {
        "id": "wDzn8AaBzG0a"
      },
      "execution_count": 10,
      "outputs": []
    },
    {
      "cell_type": "code",
      "source": [
        "print(\"Original data:\", data)"
      ],
      "metadata": {
        "colab": {
          "base_uri": "https://localhost:8080/"
        },
        "id": "qkoZbdYxzMVd",
        "outputId": "6e9963ee-4c0b-4328-9432-3b3cd609b223"
      },
      "execution_count": 11,
      "outputs": [
        {
          "output_type": "stream",
          "name": "stdout",
          "text": [
            "Original data: [ 91 111 112 113 114 115 116 117 118 119 110 121 122 123 154 125 126 127\n",
            " 128 129 130]\n"
          ]
        }
      ]
    },
    {
      "cell_type": "code",
      "source": [
        "import pandas as pd\n",
        "data_series = pd.Series(data)\n",
        "counts = data_series.value_counts()  # Count occurrences of each value\n",
        "print(counts)"
      ],
      "metadata": {
        "colab": {
          "base_uri": "https://localhost:8080/"
        },
        "id": "ASHqici2znaV",
        "outputId": "bfaff340-27bc-465d-ff97-50be15d23d9e"
      },
      "execution_count": 17,
      "outputs": [
        {
          "output_type": "stream",
          "name": "stdout",
          "text": [
            "91     1\n",
            "121    1\n",
            "129    1\n",
            "128    1\n",
            "127    1\n",
            "126    1\n",
            "125    1\n",
            "154    1\n",
            "123    1\n",
            "122    1\n",
            "110    1\n",
            "111    1\n",
            "119    1\n",
            "118    1\n",
            "117    1\n",
            "116    1\n",
            "115    1\n",
            "114    1\n",
            "113    1\n",
            "112    1\n",
            "130    1\n",
            "Name: count, dtype: int64\n"
          ]
        }
      ]
    },
    {
      "cell_type": "code",
      "source": [
        "total_values = len(data)\n",
        "\n",
        "print(\"Total number of values:\", total_values)"
      ],
      "metadata": {
        "colab": {
          "base_uri": "https://localhost:8080/"
        },
        "id": "bvfK0K7N0Gpr",
        "outputId": "7ccf5f6a-9351-4b8a-ab24-8e4b729bc342"
      },
      "execution_count": 18,
      "outputs": [
        {
          "output_type": "stream",
          "name": "stdout",
          "text": [
            "Total number of values: 21\n"
          ]
        }
      ]
    },
    {
      "cell_type": "code",
      "source": [
        "print(\"Data with outliers removed:\", cleaned_data)"
      ],
      "metadata": {
        "colab": {
          "base_uri": "https://localhost:8080/"
        },
        "id": "tclzr0-SzMR9",
        "outputId": "a931e910-530b-46c5-c2c2-9f0ad5135fa3"
      },
      "execution_count": 12,
      "outputs": [
        {
          "output_type": "stream",
          "name": "stdout",
          "text": [
            "Data with outliers removed: [111 112 113 114 115 116 117 118 119 110 121 122 123 125 126 127 128 129\n",
            " 130]\n"
          ]
        }
      ]
    },
    {
      "cell_type": "code",
      "source": [
        "total_values_after_outlier_removal = len(cleaned_data)\n",
        "\n",
        "print(\"Total number of values:\", total_values_after_outlier_removal)"
      ],
      "metadata": {
        "colab": {
          "base_uri": "https://localhost:8080/"
        },
        "id": "xaUdEzGw0Kkw",
        "outputId": "fa3d611a-5df0-4b5c-bcec-f4955df7017d"
      },
      "execution_count": 19,
      "outputs": [
        {
          "output_type": "stream",
          "name": "stdout",
          "text": [
            "Total number of values: 19\n"
          ]
        }
      ]
    }
  ]
}